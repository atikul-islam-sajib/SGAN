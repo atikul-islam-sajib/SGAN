{
 "cells": [
  {
   "cell_type": "code",
   "execution_count": 39,
   "metadata": {},
   "outputs": [],
   "source": [
    "import sys\n",
    "import os\n",
    "import yaml\n",
    "import zipfile\n",
    "import joblib\n",
    "import numpy as np\n",
    "import pandas as pd\n",
    "import cv2\n",
    "from tqdm import tqdm\n",
    "import matplotlib.pyplot as plt\n",
    "from collections import OrderedDict\n",
    "from PIL import Image\n",
    "from sklearn.model_selection import train_test_split\n",
    "from sklearn.metrics import accuracy_score\n",
    "\n",
    "import torch\n",
    "import torch.nn as nn\n",
    "import torch.optim as optim\n",
    "from torch.utils.data import DataLoader\n",
    "from torchvision import transforms\n",
    "from torchvision.utils import save_image\n",
    "from torchsummary import summary\n",
    "from torchview import draw_graph"
   ]
  },
  {
   "cell_type": "code",
   "execution_count": 3,
   "metadata": {},
   "outputs": [],
   "source": [
    "def config():\n",
    "    with open(\"../../config.yml\", \"r\") as file:\n",
    "        config = yaml.safe_load(file)\n",
    "        \n",
    "    return config"
   ]
  },
  {
   "cell_type": "code",
   "execution_count": 14,
   "metadata": {},
   "outputs": [],
   "source": [
    "def dump(value = None, filename = None):\n",
    "    if (value is not None) and (filename is not None):\n",
    "        joblib.dump(value=value, filename=filename)\n",
    "        \n",
    "    else:\n",
    "        raise ValueError(\"Value or filename is not found\".capitalize())\n",
    "    \n",
    "def load(filename = None):\n",
    "    if filename is not None:\n",
    "        return joblib.load(filename=filename)\n",
    "        \n",
    "    else:\n",
    "        raise ValueError(\"Filename is not found\".capitalize())\n",
    "    \n",
    "def weight_init(m):\n",
    "    classname = m.__class__.__name__\n",
    "    \n",
    "    if classname.find(\"Conv\") != -1:\n",
    "        nn.init.normal_(m.weight.data, 0.0, 0.02)\n",
    "        \n",
    "    if classname.find('BatchNorm') != -1:\n",
    "        nn.init.normal_(m.weight.data, 1.0, 0.02)\n",
    "        nn.init.constant_(m.bias.data, 0)\n",
    "        \n",
    "        \n",
    "def device_init(device = \"mps\"):\n",
    "    if device == \"mps\":\n",
    "        return torch.device(\"mps\" if torch.backends.mps.is_available() else \"cpu\")\n",
    "    \n",
    "    elif device == \"cuda\":\n",
    "        return torch.device(\"cuda\" if torch.cuda.is_available() else \"cpu\")\n",
    "    \n",
    "    else:\n",
    "        return torch.device(\"cpu\")"
   ]
  },
  {
   "cell_type": "code",
   "execution_count": 36,
   "metadata": {},
   "outputs": [
    {
     "ename": "FileNotFoundError",
     "evalue": "[Errno 2] No such file or directory: './data/raw/brain'",
     "output_type": "error",
     "traceback": [
      "\u001b[0;31m---------------------------------------------------------------------------\u001b[0m",
      "\u001b[0;31mFileNotFoundError\u001b[0m                         Traceback (most recent call last)",
      "Cell \u001b[0;32mIn[36], line 246\u001b[0m\n\u001b[1;32m    244\u001b[0m loader \u001b[38;5;241m=\u001b[39m Loader(image_path\u001b[38;5;241m=\u001b[39m\u001b[38;5;124m\"\u001b[39m\u001b[38;5;124m/Users/shahmuhammadraditrahman/Desktop/tumor.zip\u001b[39m\u001b[38;5;124m\"\u001b[39m)\n\u001b[1;32m    245\u001b[0m \u001b[38;5;66;03m# loader.unzip_folder()\u001b[39;00m\n\u001b[0;32m--> 246\u001b[0m \u001b[43mloader\u001b[49m\u001b[38;5;241;43m.\u001b[39;49m\u001b[43mcreate_dataloader\u001b[49m\u001b[43m(\u001b[49m\u001b[43m)\u001b[49m\n\u001b[1;32m    247\u001b[0m loader\u001b[38;5;241m.\u001b[39mdataset_details()\n\u001b[1;32m    248\u001b[0m loader\u001b[38;5;241m.\u001b[39mplot_images()\n",
      "Cell \u001b[0;32mIn[36], line 87\u001b[0m, in \u001b[0;36mLoader.create_dataloader\u001b[0;34m(self)\u001b[0m\n\u001b[1;32m     86\u001b[0m \u001b[38;5;28;01mdef\u001b[39;00m \u001b[38;5;21mcreate_dataloader\u001b[39m(\u001b[38;5;28mself\u001b[39m):\n\u001b[0;32m---> 87\u001b[0m     dataset \u001b[38;5;241m=\u001b[39m \u001b[38;5;28;43mself\u001b[39;49m\u001b[38;5;241;43m.\u001b[39;49m\u001b[43mextract_feature\u001b[49m\u001b[43m(\u001b[49m\u001b[43m)\u001b[49m\n\u001b[1;32m     89\u001b[0m     \u001b[38;5;28mself\u001b[39m\u001b[38;5;241m.\u001b[39mtrain_dataloader \u001b[38;5;241m=\u001b[39m DataLoader(\n\u001b[1;32m     90\u001b[0m         dataset\u001b[38;5;241m=\u001b[39m\u001b[38;5;28mlist\u001b[39m(\u001b[38;5;28mzip\u001b[39m(dataset[\u001b[38;5;124m\"\u001b[39m\u001b[38;5;124mX_train\u001b[39m\u001b[38;5;124m\"\u001b[39m], dataset[\u001b[38;5;124m\"\u001b[39m\u001b[38;5;124my_train\u001b[39m\u001b[38;5;124m\"\u001b[39m])),\n\u001b[1;32m     91\u001b[0m         batch_size\u001b[38;5;241m=\u001b[39m\u001b[38;5;28mself\u001b[39m\u001b[38;5;241m.\u001b[39mbatch_size,\n\u001b[1;32m     92\u001b[0m         shuffle\u001b[38;5;241m=\u001b[39m\u001b[38;5;28;01mTrue\u001b[39;00m,\n\u001b[1;32m     93\u001b[0m     )\n\u001b[1;32m     95\u001b[0m     \u001b[38;5;28mself\u001b[39m\u001b[38;5;241m.\u001b[39mtest_dataloader \u001b[38;5;241m=\u001b[39m DataLoader(\n\u001b[1;32m     96\u001b[0m         dataset\u001b[38;5;241m=\u001b[39m\u001b[38;5;28mlist\u001b[39m(\u001b[38;5;28mzip\u001b[39m(dataset[\u001b[38;5;124m\"\u001b[39m\u001b[38;5;124mX_test\u001b[39m\u001b[38;5;124m\"\u001b[39m], dataset[\u001b[38;5;124m\"\u001b[39m\u001b[38;5;124my_test\u001b[39m\u001b[38;5;124m\"\u001b[39m])),\n\u001b[1;32m     97\u001b[0m         batch_size\u001b[38;5;241m=\u001b[39m\u001b[38;5;28mself\u001b[39m\u001b[38;5;241m.\u001b[39mbatch_size \u001b[38;5;241m*\u001b[39m \u001b[38;5;241m4\u001b[39m,\n\u001b[1;32m     98\u001b[0m         shuffle\u001b[38;5;241m=\u001b[39m\u001b[38;5;28;01mTrue\u001b[39;00m,\n\u001b[1;32m     99\u001b[0m     )\n",
      "Cell \u001b[0;32mIn[36], line 56\u001b[0m, in \u001b[0;36mLoader.extract_feature\u001b[0;34m(self)\u001b[0m\n\u001b[1;32m     53\u001b[0m \u001b[38;5;28;01mdef\u001b[39;00m \u001b[38;5;21mextract_feature\u001b[39m(\u001b[38;5;28mself\u001b[39m):\n\u001b[1;32m     55\u001b[0m     \u001b[38;5;28mself\u001b[39m\u001b[38;5;241m.\u001b[39mdirectory \u001b[38;5;241m=\u001b[39m os\u001b[38;5;241m.\u001b[39mpath\u001b[38;5;241m.\u001b[39mjoin(\u001b[38;5;28mself\u001b[39m\u001b[38;5;241m.\u001b[39mconfig[\u001b[38;5;124m\"\u001b[39m\u001b[38;5;124mpath\u001b[39m\u001b[38;5;124m\"\u001b[39m][\u001b[38;5;124m\"\u001b[39m\u001b[38;5;124mraw_path\u001b[39m\u001b[38;5;124m\"\u001b[39m], \u001b[38;5;124m\"\u001b[39m\u001b[38;5;124mbrain\u001b[39m\u001b[38;5;124m\"\u001b[39m)\n\u001b[0;32m---> 56\u001b[0m     \u001b[38;5;28mself\u001b[39m\u001b[38;5;241m.\u001b[39mcategories \u001b[38;5;241m=\u001b[39m [file \u001b[38;5;28;01mfor\u001b[39;00m file \u001b[38;5;129;01min\u001b[39;00m \u001b[43mos\u001b[49m\u001b[38;5;241;43m.\u001b[39;49m\u001b[43mlistdir\u001b[49m\u001b[43m(\u001b[49m\u001b[38;5;28;43mself\u001b[39;49m\u001b[38;5;241;43m.\u001b[39;49m\u001b[43mdirectory\u001b[49m\u001b[43m)\u001b[49m]\n\u001b[1;32m     58\u001b[0m     \u001b[38;5;28;01mfor\u001b[39;00m category \u001b[38;5;129;01min\u001b[39;00m \u001b[38;5;28mself\u001b[39m\u001b[38;5;241m.\u001b[39mcategories:\n\u001b[1;32m     59\u001b[0m         full_path \u001b[38;5;241m=\u001b[39m os\u001b[38;5;241m.\u001b[39mpath\u001b[38;5;241m.\u001b[39mjoin(\u001b[38;5;28mself\u001b[39m\u001b[38;5;241m.\u001b[39mdirectory, category)\n",
      "\u001b[0;31mFileNotFoundError\u001b[0m: [Errno 2] No such file or directory: './data/raw/brain'"
     ]
    }
   ],
   "source": [
    "class Loader:\n",
    "    def __init__(self, image_path=None, image_size=64, batch_size=4, split_size=0.50):\n",
    "        self.image_path = image_path\n",
    "        self.image_size = image_size\n",
    "        self.batch_size = batch_size\n",
    "        self.split_size = split_size\n",
    "\n",
    "        self.config = config()\n",
    "\n",
    "        self.images = []\n",
    "        self.labels = []\n",
    "\n",
    "    def split_images(self, **kwargs):\n",
    "        X_train, X_test, y_train, y_test = train_test_split(\n",
    "            kwargs[\"X\"], kwargs[\"y\"], test_size=self.split_size, random_state=42\n",
    "        )\n",
    "\n",
    "        return {\n",
    "            \"X_train\": X_train,\n",
    "            \"X_test\": X_test,\n",
    "            \"y_train\": y_train,\n",
    "            \"y_test\": y_test,\n",
    "        }\n",
    "\n",
    "    def transforms(self):\n",
    "        return transforms.Compose(\n",
    "            [\n",
    "                transforms.Resize((self.image_size, self.image_size)),\n",
    "                transforms.CenterCrop((self.image_size, self.image_size)),\n",
    "                transforms.ToTensor(),\n",
    "                transforms.Normalize(\n",
    "                    mean=[\n",
    "                        0.5,\n",
    "                    ],\n",
    "                    std=[\n",
    "                        0.5,\n",
    "                    ],\n",
    "                ),\n",
    "            ]\n",
    "        )\n",
    "\n",
    "    def unzip_folder(self):\n",
    "        if os.path.exists(self.config[\"path\"][\"raw_path\"]):\n",
    "\n",
    "            with zipfile.ZipFile(self.image_path, \"r\") as zip_ref:\n",
    "                zip_ref.extractall(self.config[\"path\"][\"raw_path\"])\n",
    "\n",
    "        else:\n",
    "            raise FileNotFoundError(\n",
    "                \"Raw path is not found for the directory\".capitalize()\n",
    "            )\n",
    "\n",
    "    def extract_feature(self):\n",
    "\n",
    "        self.directory = os.path.join(self.config[\"path\"][\"raw_path\"], \"brain\")\n",
    "        self.categories = [file for file in os.listdir(self.directory)]\n",
    "\n",
    "        for category in self.categories:\n",
    "            full_path = os.path.join(self.directory, category)\n",
    "\n",
    "            for image in os.listdir(full_path):\n",
    "                full_image_path = os.path.join(full_path, image)\n",
    "\n",
    "                image_object = Image.fromarray(cv2.imread(full_image_path))\n",
    "                self.images.append(self.transforms()(image_object))\n",
    "                self.labels.append(self.categories.index(category))\n",
    "\n",
    "        dataset = self.split_images(X=self.images, y=self.labels)\n",
    "\n",
    "        X_limit = round(len(dataset[\"X_train\"]) * 1.0)\n",
    "        y_limit = round(len(dataset[\"y_train\"]) * 1.0)\n",
    "\n",
    "        sub_dataset = self.split_images(\n",
    "            X=dataset[\"X_train\"][0:X_limit], y=dataset[\"y_train\"][0:y_limit]\n",
    "        )\n",
    "\n",
    "        return {\n",
    "            \"X_train\": sub_dataset[\"X_train\"],\n",
    "            \"y_train\": sub_dataset[\"y_train\"],\n",
    "            \"X_test\": sub_dataset[\"X_test\"],\n",
    "            \"y_test\": sub_dataset[\"y_test\"],\n",
    "            \"val_train\": dataset[\"X_test\"],\n",
    "            \"val_test\": dataset[\"y_test\"],\n",
    "        }\n",
    "\n",
    "    def create_dataloader(self):\n",
    "        dataset = self.extract_feature()\n",
    "\n",
    "        self.train_dataloader = DataLoader(\n",
    "            dataset=list(zip(dataset[\"X_train\"], dataset[\"y_train\"])),\n",
    "            batch_size=self.batch_size,\n",
    "            shuffle=True,\n",
    "        )\n",
    "\n",
    "        self.test_dataloader = DataLoader(\n",
    "            dataset=list(zip(dataset[\"X_test\"], dataset[\"y_test\"])),\n",
    "            batch_size=self.batch_size * 4,\n",
    "            shuffle=True,\n",
    "        )\n",
    "\n",
    "        self.val_dataloader = DataLoader(\n",
    "            dataset=list(zip(dataset[\"val_train\"], dataset[\"val_test\"])),\n",
    "            batch_size=self.batch_size,\n",
    "            shuffle=True,\n",
    "        )\n",
    "        if os.path.exists(self.config[\"path\"][\"processed_path\"]):\n",
    "\n",
    "            dump(\n",
    "                value=self.train_dataloader,\n",
    "                filename=os.path.join(\n",
    "                    self.config[\"path\"][\"processed_path\"], \"train_dataloader.pkl\"\n",
    "                ),\n",
    "            )\n",
    "\n",
    "            dump(\n",
    "                value=self.test_dataloader,\n",
    "                filename=os.path.join(\n",
    "                    self.config[\"path\"][\"processed_path\"], \"test_dataloader.pkl\"\n",
    "                ),\n",
    "            )\n",
    "\n",
    "            dump(\n",
    "                value=self.val_dataloader,\n",
    "                filename=os.path.join(\n",
    "                    self.config[\"path\"][\"processed_path\"], \"val_dataloader.pkl\"\n",
    "                ),\n",
    "            )\n",
    "\n",
    "        else:\n",
    "            raise FileNotFoundError(\n",
    "                \"Processed path is not found for the directory\".capitalize()\n",
    "            )\n",
    "\n",
    "    @staticmethod\n",
    "    def dataset_details():\n",
    "        config_files = config()\n",
    "\n",
    "        if os.path.exists(config_files[\"path\"][\"processed_path\"]):\n",
    "\n",
    "            train_dataloader = load(\n",
    "                filename=os.path.join(\n",
    "                    config_files[\"path\"][\"processed_path\"], \"train_dataloader.pkl\"\n",
    "                ),\n",
    "            )\n",
    "\n",
    "            test_dataloader = load(\n",
    "                filename=os.path.join(\n",
    "                    config_files[\"path\"][\"processed_path\"], \"test_dataloader.pkl\"\n",
    "                ),\n",
    "            )\n",
    "\n",
    "            val_dataloader = load(\n",
    "                filename=os.path.join(\n",
    "                    config_files[\"path\"][\"processed_path\"], \"val_dataloader.pkl\"\n",
    "                ),\n",
    "            )\n",
    "\n",
    "            pd.DataFrame(\n",
    "                {\n",
    "                    \"total_data(Train)\": sum(\n",
    "                        data.size(0) for data, _ in train_dataloader\n",
    "                    ),\n",
    "                    \"total_data(Test)\": sum(\n",
    "                        data.size(0) for data, _ in test_dataloader\n",
    "                    ),\n",
    "                    \"total_data(Val)\": sum(data.size(0) for data, _ in val_dataloader),\n",
    "                    \"total_batch(Train)\": str(len(train_dataloader)),\n",
    "                    \"total_batch(Test)\": str(len(test_dataloader)),\n",
    "                    \"total_data\": sum(\n",
    "                        [\n",
    "                            sum([data.size(0) for data, _ in dataloader])\n",
    "                            for dataloader in [\n",
    "                                train_dataloader,\n",
    "                                test_dataloader,\n",
    "                                val_dataloader,\n",
    "                            ]\n",
    "                        ]\n",
    "                    ),\n",
    "                    \"train_shape\": str(\n",
    "                        [data.size() for _, (data, _) in enumerate(train_dataloader)][0]\n",
    "                    ),\n",
    "                    \"test_shape\": str(\n",
    "                        [data.size() for _, (data, _) in enumerate(test_dataloader)][0]\n",
    "                    ),\n",
    "                    \"val_shape\": str(\n",
    "                        [data.size() for _, (data, _) in enumerate(val_dataloader)][0]\n",
    "                    ),\n",
    "                },\n",
    "                index=[\"quantity\"],\n",
    "            ).T.to_csv(\n",
    "                os.path.join(config_files[\"path\"][\"files_path\"], \"dataset_details.csv\")\n",
    "                if os.path.exists(config_files[\"path\"][\"files_path\"])\n",
    "                else os.makedirs(config_files[\"path\"][\"files_path\"])\n",
    "            )\n",
    "\n",
    "        else:\n",
    "            raise FileNotFoundError(\n",
    "                \"Processed path is not found for the directory\".capitalize()\n",
    "            )\n",
    "\n",
    "    @staticmethod\n",
    "    def plot_images():\n",
    "        config_files = config()\n",
    "\n",
    "        plt.figure(figsize=(20, 10))\n",
    "\n",
    "        if os.path.exists(config_files[\"path\"][\"processed_path\"]):\n",
    "            test_dataloader = load(\n",
    "                filename=os.path.join(\n",
    "                    config_files[\"path\"][\"processed_path\"], \"test_dataloader.pkl\"\n",
    "                )\n",
    "            )\n",
    "\n",
    "            images, labels = next(iter(test_dataloader))\n",
    "\n",
    "            for index, image in enumerate(images):\n",
    "                image = image.squeeze().permute(1, 2, 0).cpu().detach().numpy()\n",
    "                image = (image - image.min()) / (image.max() - image.min())\n",
    "\n",
    "                plt.subplot(4, 4, index + 1)\n",
    "\n",
    "                plt.imshow(image, cmap=\"gray\")\n",
    "                plt.title(\"Yes\" if labels[index] == 0 else \"No\")\n",
    "                plt.axis(\"off\")\n",
    "\n",
    "            plt.tight_layout()\n",
    "\n",
    "            (\n",
    "                plt.savefig(\n",
    "                    os.path.join(config_files[\"path\"][\"files_path\"], \"images.png\")\n",
    "                )\n",
    "                if os.path.exists(config_files[\"path\"][\"files_path\"])\n",
    "                else \"Cannot save the images to\".capitalize()\n",
    "            )\n",
    "            plt.show()\n",
    "\n",
    "        else:\n",
    "            raise FileNotFoundError(\n",
    "                \"Processed path is not found for the directory\".capitalize()\n",
    "            )\n",
    "\n",
    "\n",
    "if __name__ == \"__main__\":\n",
    "    loader = Loader(image_path=\"/Users/shahmuhammadraditrahman/Desktop/tumor.zip\")\n",
    "    # loader.unzip_folder()\n",
    "    loader.create_dataloader()\n",
    "    loader.dataset_details()\n",
    "    loader.plot_images()"
   ]
  },
  {
   "cell_type": "markdown",
   "metadata": {},
   "source": [
    "#### Create the discriminator"
   ]
  },
  {
   "cell_type": "code",
   "execution_count": 6,
   "metadata": {},
   "outputs": [
    {
     "name": "stdout",
     "output_type": "stream",
     "text": [
      "----------------------------------------------------------------\n",
      "        Layer (type)               Output Shape         Param #\n",
      "================================================================\n",
      "            Conv2d-1          [-1, 512, 64, 64]           4,608\n",
      "       BatchNorm2d-2          [-1, 512, 64, 64]           1,024\n",
      "         LeakyReLU-3          [-1, 512, 64, 64]               0\n",
      "DiscriminatorBlock-4          [-1, 512, 64, 64]               0\n",
      "            Conv2d-5          [-1, 256, 32, 32]       1,179,648\n",
      "       BatchNorm2d-6          [-1, 256, 32, 32]             512\n",
      "         LeakyReLU-7          [-1, 256, 32, 32]               0\n",
      "DiscriminatorBlock-8          [-1, 256, 32, 32]               0\n",
      "            Conv2d-9          [-1, 128, 16, 16]         294,912\n",
      "      BatchNorm2d-10          [-1, 128, 16, 16]             256\n",
      "        LeakyReLU-11          [-1, 128, 16, 16]               0\n",
      "DiscriminatorBlock-12          [-1, 128, 16, 16]               0\n",
      "           Conv2d-13             [-1, 64, 8, 8]          73,728\n",
      "      BatchNorm2d-14             [-1, 64, 8, 8]             128\n",
      "        LeakyReLU-15             [-1, 64, 8, 8]               0\n",
      "DiscriminatorBlock-16             [-1, 64, 8, 8]               0\n",
      "================================================================\n",
      "Total params: 1,554,816\n",
      "Trainable params: 1,554,816\n",
      "Non-trainable params: 0\n",
      "----------------------------------------------------------------\n",
      "Input size (MB): 0.06\n",
      "Forward/backward pass size (MB): 73.12\n",
      "Params size (MB): 5.93\n",
      "Estimated Total Size (MB): 79.12\n",
      "----------------------------------------------------------------\n",
      "None\n"
     ]
    }
   ],
   "source": [
    "class DiscriminatorBlock(nn.Module):\n",
    "    def __init__(self, in_channels = 1, out_channels = 512):\n",
    "        super(DiscriminatorBlock, self).__init__()\n",
    "\n",
    "        self.in_channels = in_channels\n",
    "        self.out_channels = out_channels\n",
    "\n",
    "        self.kernel = 3\n",
    "        self.stride = 2\n",
    "        self.padding = 1\n",
    "\n",
    "        self.discriminator = self.block()\n",
    "\n",
    "    def block(self):\n",
    "        layers = OrderedDict()\n",
    "\n",
    "        layers[\"conv\"] = nn.Conv2d(\n",
    "            in_channels=self.in_channels,\n",
    "            out_channels=self.out_channels,\n",
    "            kernel_size=self.kernel,\n",
    "            stride=self.stride,\n",
    "            padding=self.padding,\n",
    "            bias=False,\n",
    "        )\n",
    "\n",
    "        layers[\"batch_norm\"] = nn.BatchNorm2d(self.out_channels)\n",
    "\n",
    "        layers[\"leaky_relu\"] = nn.LeakyReLU(0.2, inplace=True)\n",
    "\n",
    "        return nn.Sequential(layers)\n",
    "\n",
    "    def forward(self, x):\n",
    "        if x is not None:\n",
    "            return self.discriminator(x)\n",
    "        else:\n",
    "            raise ValueError(\"Input is not found\".capitalize())\n",
    "        \n",
    "    @staticmethod\n",
    "    def total_params(model = None):\n",
    "        if model is not None:\n",
    "            return sum(params.numel() for params in model.parameters())\n",
    "\n",
    "\n",
    "if __name__ == \"__main__\":\n",
    "    in_channels = 1\n",
    "    out_channels = 512\n",
    "\n",
    "    layers = []\n",
    "\n",
    "    for _ in range(4):\n",
    "        layers.append(DiscriminatorBlock(in_channels=in_channels, out_channels=out_channels))\n",
    "        \n",
    "        in_channels = out_channels\n",
    "        out_channels //= 2\n",
    "        \n",
    "    model = nn.Sequential(*layers)\n",
    "    \n",
    "    print(summary(model = model, input_size = (1, 128, 128)))\n",
    "    \n",
    "    draw_graph(model = model, input_data = torch.randn(4, 1, 64, 64)).visual_graph"
   ]
  },
  {
   "cell_type": "code",
   "execution_count": 7,
   "metadata": {},
   "outputs": [
    {
     "name": "stderr",
     "output_type": "stream",
     "text": [
      "100%|██████████| 4/4 [00:00<00:00, 529.23it/s]"
     ]
    },
    {
     "name": "stdout",
     "output_type": "stream",
     "text": [
      "torch.Size([4, 2]) torch.Size([4, 1])\n",
      "----------------------------------------------------------------\n",
      "        Layer (type)               Output Shape         Param #\n",
      "================================================================\n",
      "            Conv2d-1          [-1, 512, 32, 32]           4,608\n",
      "       BatchNorm2d-2          [-1, 512, 32, 32]           1,024\n",
      "         LeakyReLU-3          [-1, 512, 32, 32]               0\n",
      "DiscriminatorBlock-4          [-1, 512, 32, 32]               0\n",
      "            Conv2d-5          [-1, 256, 16, 16]       1,179,648\n",
      "       BatchNorm2d-6          [-1, 256, 16, 16]             512\n",
      "         LeakyReLU-7          [-1, 256, 16, 16]               0\n",
      "DiscriminatorBlock-8          [-1, 256, 16, 16]               0\n",
      "            Conv2d-9            [-1, 128, 8, 8]         294,912\n",
      "      BatchNorm2d-10            [-1, 128, 8, 8]             256\n",
      "        LeakyReLU-11            [-1, 128, 8, 8]               0\n",
      "DiscriminatorBlock-12            [-1, 128, 8, 8]               0\n",
      "           Conv2d-13             [-1, 64, 4, 4]          73,728\n",
      "      BatchNorm2d-14             [-1, 64, 4, 4]             128\n",
      "        LeakyReLU-15             [-1, 64, 4, 4]               0\n",
      "DiscriminatorBlock-16             [-1, 64, 4, 4]               0\n",
      "           Linear-17                    [-1, 2]           2,048\n",
      "          Softmax-18                    [-1, 2]               0\n",
      "           Linear-19                    [-1, 1]           1,024\n",
      "          Sigmoid-20                    [-1, 1]               0\n",
      "================================================================\n",
      "Total params: 1,557,888\n",
      "Trainable params: 1,557,888\n",
      "Non-trainable params: 0\n",
      "----------------------------------------------------------------\n",
      "Input size (MB): 0.02\n",
      "Forward/backward pass size (MB): 18.28\n",
      "Params size (MB): 5.94\n",
      "Estimated Total Size (MB): 24.24\n",
      "----------------------------------------------------------------\n",
      "None\n"
     ]
    },
    {
     "name": "stderr",
     "output_type": "stream",
     "text": [
      "\n"
     ]
    }
   ],
   "source": [
    "class Discriminator(nn.Module):\n",
    "    def __init__(self, in_channels = 1, out_channels = 512):\n",
    "        super(Discriminator, self).__init__()\n",
    "\n",
    "        self.in_channels = in_channels\n",
    "        self.out_channels = out_channels\n",
    "\n",
    "        self.layers = []\n",
    "\n",
    "        for _ in tqdm(range(4)):\n",
    "            self.layers.append(\n",
    "                DiscriminatorBlock(\n",
    "                    in_channels=self.in_channels, out_channels=self.out_channels\n",
    "                )\n",
    "            )\n",
    "            \n",
    "            self.in_channels = self.out_channels\n",
    "            self.out_channels //= 2\n",
    "            \n",
    "        self.model = nn.Sequential(*self.layers)\n",
    "        \n",
    "        self.classification = nn.Sequential(\n",
    "            nn.Linear(in_features=64 * 4 * 4, out_features=2, bias=False),\n",
    "            nn.Softmax(dim = 1),\n",
    "        )\n",
    "        \n",
    "        self.validity = nn.Sequential(\n",
    "            nn.Linear(in_features=64 * 4 * 4, out_features=1, bias=False),\n",
    "            nn.Sigmoid(),\n",
    "        )\n",
    "        \n",
    "    def forward(self, x):\n",
    "        if x is not None:\n",
    "            x = self.model(x)\n",
    "            \n",
    "            classification = self.classification(x.view(x.size(0), -1))\n",
    "            validity = self.validity(x.view(x.size(0), -1))\n",
    "            \n",
    "            return classification, validity\n",
    "        \n",
    "        else:\n",
    "            raise ValueError(\"Input is not found\".capitalize())\n",
    "        \n",
    "        \n",
    "if __name__ == \"__main__\":\n",
    "    netD = Discriminator(in_channels = 1, out_channels = 512)\n",
    "    \n",
    "    classification, validity = netD(torch.randn(4, 1, 64, 64))\n",
    "    \n",
    "    print(classification.size(), validity.size())\n",
    "    \n",
    "    print(summary(model = netD, input_size = (1, 64, 64)))\n",
    "    \n",
    "    draw_graph(model = netD, input_data = torch.randn(4, 1, 64, 64)).visual_graph"
   ]
  },
  {
   "cell_type": "markdown",
   "metadata": {},
   "source": [
    "#### Create Generator"
   ]
  },
  {
   "cell_type": "code",
   "execution_count": 8,
   "metadata": {},
   "outputs": [
    {
     "name": "stderr",
     "output_type": "stream",
     "text": [
      "100%|██████████| 4/4 [00:00<00:00, 375.61it/s]"
     ]
    },
    {
     "name": "stdout",
     "output_type": "stream",
     "text": [
      "torch.Size([4, 1, 64, 64])\n",
      "----------------------------------------------------------------\n",
      "        Layer (type)               Output Shape         Param #\n",
      "================================================================\n",
      "   ConvTranspose2d-1             [-1, 64, 4, 4]         102,400\n",
      "   ConvTranspose2d-2            [-1, 128, 8, 8]         131,200\n",
      "       BatchNorm2d-3            [-1, 128, 8, 8]             256\n",
      "         LeakyReLU-4            [-1, 128, 8, 8]               0\n",
      "    GeneratorBlock-5            [-1, 128, 8, 8]               0\n",
      "   ConvTranspose2d-6          [-1, 256, 16, 16]         524,544\n",
      "       BatchNorm2d-7          [-1, 256, 16, 16]             512\n",
      "         LeakyReLU-8          [-1, 256, 16, 16]               0\n",
      "    GeneratorBlock-9          [-1, 256, 16, 16]               0\n",
      "  ConvTranspose2d-10          [-1, 512, 32, 32]       2,097,664\n",
      "      BatchNorm2d-11          [-1, 512, 32, 32]           1,024\n",
      "        LeakyReLU-12          [-1, 512, 32, 32]               0\n",
      "   GeneratorBlock-13          [-1, 512, 32, 32]               0\n",
      "  ConvTranspose2d-14            [-1, 1, 64, 64]           8,193\n",
      "             Tanh-15            [-1, 1, 64, 64]               0\n",
      "   GeneratorBlock-16            [-1, 1, 64, 64]               0\n",
      "================================================================\n",
      "Total params: 2,865,793\n",
      "Trainable params: 2,865,793\n",
      "Non-trainable params: 0\n",
      "----------------------------------------------------------------\n",
      "Input size (MB): 0.00\n",
      "Forward/backward pass size (MB): 18.35\n",
      "Params size (MB): 10.93\n",
      "Estimated Total Size (MB): 29.28\n",
      "----------------------------------------------------------------\n",
      "None\n"
     ]
    },
    {
     "name": "stderr",
     "output_type": "stream",
     "text": [
      "\n"
     ]
    }
   ],
   "source": [
    "class GeneratorBlock(nn.Module):\n",
    "    def __init__(self, in_channels = 64, out_channels = 128, is_last = False):\n",
    "        super(GeneratorBlock, self).__init__()\n",
    "        \n",
    "        self.in_channels = in_channels\n",
    "        self.out_channels = out_channels\n",
    "        self.is_last = is_last\n",
    "        \n",
    "        self.kernel = 4\n",
    "        self.stride = 2\n",
    "        self.padding = 1\n",
    "        \n",
    "        self.generator = self.block()\n",
    "        \n",
    "    \n",
    "    def block(self):\n",
    "        layers = OrderedDict()\n",
    "        \n",
    "        layers[\"conv\"] = nn.ConvTranspose2d(\n",
    "            in_channels=self.in_channels,\n",
    "            out_channels=self.out_channels,\n",
    "            kernel_size=self.kernel,\n",
    "            stride=self.stride,\n",
    "            padding = self.padding)\n",
    "        \n",
    "        if self.is_last:\n",
    "            layers[\"tanh\"] = nn.Tanh()\n",
    "        \n",
    "        else:\n",
    "            layers[\"batch_norm\"] = nn.BatchNorm2d(self.out_channels)\n",
    "            layers[\"leaky_relu\"] = nn.LeakyReLU(0.2, inplace=True)\n",
    "            \n",
    "        return nn.Sequential(layers)\n",
    "        \n",
    "    \n",
    "    \n",
    "    def forward(self, x):\n",
    "        if x is not None:\n",
    "            return self.generator(x)\n",
    "        \n",
    "        else:\n",
    "            raise ValueError(\"Input is not found\".capitalize())\n",
    "\n",
    "\n",
    "if __name__ == \"__main__\":\n",
    "    latent_space = 100\n",
    "    out_channels = 64\n",
    "    kernel = 4\n",
    "    stride = 1\n",
    "    padding = 0\n",
    "    num_repetitive = 4 \n",
    "\n",
    "    layers = []\n",
    "\n",
    "    layers.append(\n",
    "        nn.ConvTranspose2d(\n",
    "            in_channels = latent_space,\n",
    "            out_channels = out_channels,\n",
    "            kernel_size = kernel,\n",
    "            stride = stride,\n",
    "            padding = padding,\n",
    "            bias = False,)\n",
    "    )\n",
    "\n",
    "    in_channels = out_channels\n",
    "\n",
    "    for idx in tqdm(range(4)):\n",
    "        layers.append(\n",
    "            GeneratorBlock(\n",
    "                in_channels=in_channels,\n",
    "                out_channels=1 if idx == (num_repetitive - 1) else in_channels * 2,\n",
    "                is_last=True if idx == (num_repetitive - 1) else False,\n",
    "            )\n",
    "        )\n",
    "\n",
    "        in_channels *= 2\n",
    "\n",
    "    model = nn.Sequential(*layers)\n",
    "\n",
    "    print(model(torch.randn(4, 100, 1, 1)).size())\n",
    "    \n",
    "    print(summary(model = model, input_size = (100, 1, 1)))\n",
    "    \n",
    "    draw_graph(model = model, input_data = torch.randn(4, 100, 1, 1)).visual_graph"
   ]
  },
  {
   "cell_type": "code",
   "execution_count": 9,
   "metadata": {},
   "outputs": [
    {
     "name": "stderr",
     "output_type": "stream",
     "text": [
      "100%|██████████| 4/4 [00:00<00:00, 331.74it/s]"
     ]
    },
    {
     "name": "stdout",
     "output_type": "stream",
     "text": [
      "torch.Size([4, 1, 64, 64])\n",
      "----------------------------------------------------------------\n",
      "        Layer (type)               Output Shape         Param #\n",
      "================================================================\n",
      "   ConvTranspose2d-1             [-1, 64, 4, 4]         102,400\n",
      "       BatchNorm2d-2             [-1, 64, 4, 4]             128\n",
      "         LeakyReLU-3             [-1, 64, 4, 4]               0\n",
      "   ConvTranspose2d-4            [-1, 128, 8, 8]         131,200\n",
      "       BatchNorm2d-5            [-1, 128, 8, 8]             256\n",
      "         LeakyReLU-6            [-1, 128, 8, 8]               0\n",
      "    GeneratorBlock-7            [-1, 128, 8, 8]               0\n",
      "   ConvTranspose2d-8          [-1, 256, 16, 16]         524,544\n",
      "       BatchNorm2d-9          [-1, 256, 16, 16]             512\n",
      "        LeakyReLU-10          [-1, 256, 16, 16]               0\n",
      "   GeneratorBlock-11          [-1, 256, 16, 16]               0\n",
      "  ConvTranspose2d-12          [-1, 512, 32, 32]       2,097,664\n",
      "      BatchNorm2d-13          [-1, 512, 32, 32]           1,024\n",
      "        LeakyReLU-14          [-1, 512, 32, 32]               0\n",
      "   GeneratorBlock-15          [-1, 512, 32, 32]               0\n",
      "  ConvTranspose2d-16            [-1, 1, 64, 64]           8,193\n",
      "             Tanh-17            [-1, 1, 64, 64]               0\n",
      "   GeneratorBlock-18            [-1, 1, 64, 64]               0\n",
      "================================================================\n",
      "Total params: 2,865,921\n",
      "Trainable params: 2,865,921\n",
      "Non-trainable params: 0\n",
      "----------------------------------------------------------------\n",
      "Input size (MB): 0.00\n",
      "Forward/backward pass size (MB): 18.37\n",
      "Params size (MB): 10.93\n",
      "Estimated Total Size (MB): 29.30\n",
      "----------------------------------------------------------------\n",
      "None\n"
     ]
    },
    {
     "name": "stderr",
     "output_type": "stream",
     "text": [
      "\n"
     ]
    }
   ],
   "source": [
    "class Generator(nn.Module):\n",
    "    def __init__(self, latent_space = 100, out_channels = 1):\n",
    "        super(Generator, self).__init__()\n",
    "\n",
    "        self.in_channels = in_channels\n",
    "        self.out_channels = out_channels * 64\n",
    "\n",
    "        self.kernel = 4\n",
    "        self.stride = 1\n",
    "        self.padding = 0\n",
    "\n",
    "        self.layers = []\n",
    "\n",
    "        self.layers.append(\n",
    "            nn.Sequential(\n",
    "                nn.ConvTranspose2d(\n",
    "                    in_channels=latent_space,\n",
    "                    out_channels=self.out_channels,\n",
    "                    kernel_size=self.kernel,\n",
    "                    stride=self.stride,\n",
    "                    padding=self.padding,\n",
    "                    bias=False,\n",
    "                ),\n",
    "                nn.BatchNorm2d(self.out_channels),\n",
    "                nn.LeakyReLU(0.2, inplace=True),\n",
    "            )\n",
    "        )\n",
    "        self.in_channels = self.out_channels\n",
    "\n",
    "        for idx in tqdm(range(4)):\n",
    "            self.layers.append(\n",
    "                GeneratorBlock(\n",
    "                    in_channels=self.in_channels,\n",
    "                    out_channels=1 if idx == (4 - 1) else self.in_channels * 2,\n",
    "                    is_last=True if idx == (4 - 1) else False,\n",
    "                )\n",
    "            )\n",
    "            \n",
    "            self.in_channels *= 2\n",
    "            \n",
    "        self.model = nn.Sequential(*self.layers)\n",
    "\n",
    "    def forward(self, x):\n",
    "        if x is not None:\n",
    "            return self.model(x)\n",
    "\n",
    "        else:\n",
    "            raise ValueError(\"Input is not found\".capitalize())\n",
    "        \n",
    "    @staticmethod\n",
    "    def total_params(model = None):\n",
    "        if model is not None:\n",
    "            return sum(params.numel() for params in model.parameters())\n",
    "        \n",
    "        \n",
    "if __name__ == \"__main__\":\n",
    "    netG = Generator(latent_space = 100, out_channels = 1)\n",
    "    \n",
    "    print(netG(torch.randn(4, 100, 1, 1)).size())\n",
    "    \n",
    "    print(summary(model = netG, input_size = (100, 1, 1)))\n",
    "    \n",
    "    draw_graph(model = netG, input_data = torch.randn(4, 100, 1, 1)).visual_graph"
   ]
  },
  {
   "cell_type": "markdown",
   "metadata": {},
   "source": [
    "#### Define the loss"
   ]
  },
  {
   "cell_type": "code",
   "execution_count": 10,
   "metadata": {},
   "outputs": [
    {
     "name": "stdout",
     "output_type": "stream",
     "text": [
      "tensor(4.6359)\n"
     ]
    }
   ],
   "source": [
    "class ClassificationLoss(nn.Module):\n",
    "    def __init__(self):\n",
    "        super(ClassificationLoss, self).__init__()\n",
    "\n",
    "        self.name = \"adversarial loss\".capitalize()\n",
    "\n",
    "        self.criterion = nn.CrossEntropyLoss()\n",
    "\n",
    "    def forward(self, predict, actual):\n",
    "        if (predict is not None) and (actual is not None):\n",
    "            return self.criterion(predict, actual)\n",
    "\n",
    "        else:\n",
    "            raise ValueError(\"Input is not found\".capitalize())\n",
    "\n",
    "\n",
    "if __name__ == \"__main__\":\n",
    "    adversarial_loss = ClassificationLoss()\n",
    "    \n",
    "    actual = torch.tensor([0., 1., 0., 1., 0.])\n",
    "    predict = torch.tensor([1., 0., 1., 0., 1.])\n",
    "    \n",
    "    print(adversarial_loss(predict, actual))"
   ]
  },
  {
   "cell_type": "code",
   "execution_count": 11,
   "metadata": {},
   "outputs": [
    {
     "name": "stdout",
     "output_type": "stream",
     "text": [
      "tensor(20.)\n"
     ]
    }
   ],
   "source": [
    "class ValidityLoss(nn.Module):\n",
    "    def __init__(self):\n",
    "        super(ValidityLoss, self).__init__()\n",
    "        \n",
    "        self.name = \"Validity loss\".capitalize()\n",
    "        \n",
    "        self.criterion = nn.BCELoss()\n",
    "    def forward(self, predict, actual):\n",
    "        if (predict is not None) and (actual is not None):\n",
    "            return self.criterion(predict, actual)\n",
    "        \n",
    "        else:\n",
    "            raise ValueError(\"Input is not found\".capitalize())\n",
    "        \n",
    "        \n",
    "if __name__ == \"__main__\":\n",
    "    validity_loss = ValidityLoss()\n",
    "    \n",
    "    actual = torch.tensor([1., 0., 1., 1., 1.])\n",
    "    predict = torch.tensor([1., 0., 1., 0., 1.])\n",
    "    \n",
    "    print(validity_loss(predict, actual))"
   ]
  },
  {
   "cell_type": "markdown",
   "metadata": {},
   "source": [
    "#### Helper method"
   ]
  },
  {
   "cell_type": "code",
   "execution_count": 55,
   "metadata": {},
   "outputs": [
    {
     "name": "stderr",
     "output_type": "stream",
     "text": [
      "100%|██████████| 4/4 [00:00<00:00, 389.75it/s]\n",
      "100%|██████████| 4/4 [00:00<00:00, 641.23it/s]"
     ]
    },
    {
     "name": "stdout",
     "output_type": "stream",
     "text": [
      "All are extracted...\n"
     ]
    },
    {
     "name": "stderr",
     "output_type": "stream",
     "text": [
      "\n"
     ]
    }
   ],
   "source": [
    "from torch.optim.lr_scheduler import StepLR\n",
    "\n",
    "def load_dataloader():\n",
    "    config_files = config()\n",
    "\n",
    "    if os.path.exists(config_files[\"path\"][\"processed_path\"]):\n",
    "        train_dataloader = load(\n",
    "            os.path.join(config_files[\"path\"][\"processed_path\"], \"train_dataloader.pkl\")\n",
    "        )\n",
    "        test_dataloader = load(\n",
    "            os.path.join(config_files[\"path\"][\"processed_path\"], \"test_dataloader.pkl\")\n",
    "        )\n",
    "        val_dataloader = load(\n",
    "            os.path.join(config_files[\"path\"][\"processed_path\"], \"val_dataloader.pkl\")\n",
    "        )\n",
    "\n",
    "        return {\n",
    "            \"train_dataloader\": train_dataloader,\n",
    "            \"test_dataloader\": test_dataloader,\n",
    "            \"val_dataloader\": val_dataloader\n",
    "        }\n",
    "\n",
    "    else:\n",
    "        raise FileNotFoundError(\"Could not find the dataloader\".capitalize())\n",
    "    \n",
    "def init_loss():\n",
    "    adversarial_loss = ClassificationLoss()\n",
    "    criterion_loss = ValidityLoss()\n",
    "    \n",
    "    return {\"adversarial_loss\": adversarial_loss,\"criterion_loss\": criterion_loss}\n",
    "    \n",
    "def helper(**kwargs):\n",
    "    lr = kwargs[\"lr\"]\n",
    "    adam = kwargs[\"adam\"]\n",
    "    SGD = kwargs[\"SGD\"]\n",
    "    \n",
    "    netG = Generator(latent_space= 100 , out_channels=1)\n",
    "    netD = Discriminator(in_channels = 1, out_channels = 512)\n",
    "    \n",
    "    if adam:\n",
    "        optimizerG = optim.Adam(params=netG.parameters(), lr=lr, betas=(0.5, 0.999))\n",
    "        optimizerD = optim.Adam(params=netD.parameters(), lr=lr, betas=(0.5, 0.999))\n",
    "    \n",
    "    if SGD:\n",
    "        optimizerG = optim.SGD(params=netG.parameters(), lr=lr, momentum=0.85)\n",
    "        optimizerD = optim.SGD(params=netD.parameters(), lr=lr, momentum=0.85)\n",
    "        \n",
    "    try:\n",
    "        loss = init_loss()\n",
    "        dataloader = load_dataloader()\n",
    "    \n",
    "    except AttributeError as e:\n",
    "        print(\"The exception raised {}\".format(e))\n",
    "        \n",
    "    finally:\n",
    "        print(\"All are extracted...\".capitalize())\n",
    "        \n",
    "    return {\n",
    "        \"train_dataloader\": dataloader[\"train_dataloader\"],\n",
    "        \"test_dataloader\": dataloader[\"test_dataloader\"],\n",
    "        \"val_dataloader\": dataloader[\"val_dataloader\"],\n",
    "        \"netG\": netG,\n",
    "        \"netD\": netD,\n",
    "        \"optimizerG\": optimizerG,\n",
    "        \"optimizerD\": optimizerD,\n",
    "        \"adversarial_loss\": loss[\"adversarial_loss\"],\n",
    "        \"criterion_loss\": loss[\"criterion_loss\"],\n",
    "    }\n",
    "\n",
    "\n",
    "if __name__ == \"__main__\":\n",
    "    init = helper(\n",
    "        lr = 0.0002,\n",
    "        adam = True,\n",
    "        SGD = False,\n",
    "    )"
   ]
  },
  {
   "cell_type": "code",
   "execution_count": 75,
   "metadata": {},
   "outputs": [
    {
     "name": "stderr",
     "output_type": "stream",
     "text": [
      "100%|██████████| 4/4 [00:00<00:00, 442.03it/s]\n",
      "100%|██████████| 4/4 [00:00<00:00, 263.82it/s]\n"
     ]
    },
    {
     "name": "stdout",
     "output_type": "stream",
     "text": [
      "All are extracted...\n"
     ]
    },
    {
     "name": "stderr",
     "output_type": "stream",
     "text": [
      "  0%|          | 1/200 [00:01<05:31,  1.67s/it]"
     ]
    },
    {
     "name": "stdout",
     "output_type": "stream",
     "text": [
      "Epochs - [1/200] - netG_loss: [9.2994] - netD_loss: [3.0907] - train_acc: [0.5781] - test_accu: [0.7584]\n"
     ]
    },
    {
     "name": "stderr",
     "output_type": "stream",
     "text": [
      "  1%|          | 2/200 [00:03<05:00,  1.52s/it]"
     ]
    },
    {
     "name": "stdout",
     "output_type": "stream",
     "text": [
      "Epochs - [2/200] - netG_loss: [9.0146] - netD_loss: [2.9731] - train_acc: [0.8281] - test_accu: [0.6034]\n"
     ]
    },
    {
     "name": "stderr",
     "output_type": "stream",
     "text": [
      "  2%|▏         | 3/200 [00:04<04:47,  1.46s/it]"
     ]
    },
    {
     "name": "stdout",
     "output_type": "stream",
     "text": [
      "Epochs - [3/200] - netG_loss: [9.1927] - netD_loss: [2.6795] - train_acc: [0.8281] - test_accu: [0.6070]\n"
     ]
    },
    {
     "name": "stderr",
     "output_type": "stream",
     "text": [
      "  2%|▏         | 4/200 [00:05<04:42,  1.44s/it]"
     ]
    },
    {
     "name": "stdout",
     "output_type": "stream",
     "text": [
      "Epochs - [4/200] - netG_loss: [9.9613] - netD_loss: [2.4929] - train_acc: [0.8594] - test_accu: [0.7392]\n"
     ]
    },
    {
     "name": "stderr",
     "output_type": "stream",
     "text": [
      "  2%|▎         | 5/200 [00:07<04:40,  1.44s/it]"
     ]
    },
    {
     "name": "stdout",
     "output_type": "stream",
     "text": [
      "Epochs - [5/200] - netG_loss: [8.7109] - netD_loss: [2.5287] - train_acc: [0.8750] - test_accu: [0.7825]\n"
     ]
    },
    {
     "name": "stderr",
     "output_type": "stream",
     "text": [
      "  3%|▎         | 6/200 [00:08<04:38,  1.43s/it]"
     ]
    },
    {
     "name": "stdout",
     "output_type": "stream",
     "text": [
      "Epochs - [6/200] - netG_loss: [6.9274] - netD_loss: [2.5353] - train_acc: [0.8906] - test_accu: [0.7584]\n"
     ]
    },
    {
     "name": "stderr",
     "output_type": "stream",
     "text": [
      "  4%|▎         | 7/200 [00:10<04:35,  1.42s/it]"
     ]
    },
    {
     "name": "stdout",
     "output_type": "stream",
     "text": [
      "Epochs - [7/200] - netG_loss: [7.8493] - netD_loss: [2.5373] - train_acc: [0.8438] - test_accu: [0.7512]\n"
     ]
    },
    {
     "name": "stderr",
     "output_type": "stream",
     "text": [
      "  4%|▍         | 8/200 [00:11<04:32,  1.42s/it]"
     ]
    },
    {
     "name": "stdout",
     "output_type": "stream",
     "text": [
      "Epochs - [8/200] - netG_loss: [7.4161] - netD_loss: [2.2474] - train_acc: [0.9219] - test_accu: [0.7668]\n"
     ]
    },
    {
     "name": "stderr",
     "output_type": "stream",
     "text": [
      "  4%|▍         | 9/200 [00:12<04:30,  1.42s/it]"
     ]
    },
    {
     "name": "stdout",
     "output_type": "stream",
     "text": [
      "Epochs - [9/200] - netG_loss: [8.2207] - netD_loss: [2.0332] - train_acc: [0.9375] - test_accu: [0.7091]\n"
     ]
    },
    {
     "name": "stderr",
     "output_type": "stream",
     "text": [
      "  5%|▌         | 10/200 [00:14<04:29,  1.42s/it]"
     ]
    },
    {
     "name": "stdout",
     "output_type": "stream",
     "text": [
      "Epochs - [10/200] - netG_loss: [7.7750] - netD_loss: [2.0795] - train_acc: [0.9688] - test_accu: [0.7512]\n"
     ]
    },
    {
     "name": "stderr",
     "output_type": "stream",
     "text": [
      "  6%|▌         | 11/200 [00:15<04:31,  1.44s/it]"
     ]
    },
    {
     "name": "stdout",
     "output_type": "stream",
     "text": [
      "Epochs - [11/200] - netG_loss: [7.4635] - netD_loss: [1.8462] - train_acc: [0.9688] - test_accu: [0.7668]\n"
     ]
    },
    {
     "name": "stderr",
     "output_type": "stream",
     "text": [
      "  6%|▌         | 12/200 [00:17<04:29,  1.43s/it]"
     ]
    },
    {
     "name": "stdout",
     "output_type": "stream",
     "text": [
      "Epochs - [12/200] - netG_loss: [7.4239] - netD_loss: [1.8618] - train_acc: [0.9844] - test_accu: [0.8450]\n"
     ]
    },
    {
     "name": "stderr",
     "output_type": "stream",
     "text": [
      "  6%|▋         | 13/200 [00:18<04:27,  1.43s/it]"
     ]
    },
    {
     "name": "stdout",
     "output_type": "stream",
     "text": [
      "Epochs - [13/200] - netG_loss: [7.4906] - netD_loss: [1.7470] - train_acc: [0.9844] - test_accu: [0.8053]\n"
     ]
    },
    {
     "name": "stderr",
     "output_type": "stream",
     "text": [
      "  7%|▋         | 14/200 [00:20<04:27,  1.44s/it]"
     ]
    },
    {
     "name": "stdout",
     "output_type": "stream",
     "text": [
      "Epochs - [14/200] - netG_loss: [8.2467] - netD_loss: [1.6186] - train_acc: [1.0000] - test_accu: [0.7933]\n"
     ]
    },
    {
     "name": "stderr",
     "output_type": "stream",
     "text": [
      "  8%|▊         | 15/200 [00:21<04:24,  1.43s/it]"
     ]
    },
    {
     "name": "stdout",
     "output_type": "stream",
     "text": [
      "Epochs - [15/200] - netG_loss: [8.6118] - netD_loss: [1.5559] - train_acc: [1.0000] - test_accu: [0.8017]\n"
     ]
    },
    {
     "name": "stderr",
     "output_type": "stream",
     "text": [
      "  8%|▊         | 16/200 [00:23<04:21,  1.42s/it]"
     ]
    },
    {
     "name": "stdout",
     "output_type": "stream",
     "text": [
      "Epochs - [16/200] - netG_loss: [8.4920] - netD_loss: [1.5197] - train_acc: [1.0000] - test_accu: [0.7897]\n"
     ]
    },
    {
     "name": "stderr",
     "output_type": "stream",
     "text": [
      "  8%|▊         | 17/200 [00:24<04:18,  1.41s/it]"
     ]
    },
    {
     "name": "stdout",
     "output_type": "stream",
     "text": [
      "Epochs - [17/200] - netG_loss: [8.4401] - netD_loss: [1.5503] - train_acc: [0.9844] - test_accu: [0.7704]\n"
     ]
    },
    {
     "name": "stderr",
     "output_type": "stream",
     "text": [
      "  9%|▉         | 18/200 [00:25<04:16,  1.41s/it]"
     ]
    },
    {
     "name": "stdout",
     "output_type": "stream",
     "text": [
      "Epochs - [18/200] - netG_loss: [8.1658] - netD_loss: [1.5954] - train_acc: [0.9844] - test_accu: [0.7668]\n"
     ]
    },
    {
     "name": "stderr",
     "output_type": "stream",
     "text": [
      " 10%|▉         | 19/200 [00:27<04:14,  1.41s/it]"
     ]
    },
    {
     "name": "stdout",
     "output_type": "stream",
     "text": [
      "Epochs - [19/200] - netG_loss: [8.1924] - netD_loss: [1.6200] - train_acc: [0.9844] - test_accu: [0.8053]\n"
     ]
    },
    {
     "name": "stderr",
     "output_type": "stream",
     "text": [
      " 10%|█         | 20/200 [00:28<04:12,  1.40s/it]"
     ]
    },
    {
     "name": "stdout",
     "output_type": "stream",
     "text": [
      "Epochs - [20/200] - netG_loss: [7.3764] - netD_loss: [1.5487] - train_acc: [1.0000] - test_accu: [0.8209]\n"
     ]
    },
    {
     "name": "stderr",
     "output_type": "stream",
     "text": [
      " 10%|█         | 21/200 [00:29<04:11,  1.40s/it]"
     ]
    },
    {
     "name": "stdout",
     "output_type": "stream",
     "text": [
      "Epochs - [21/200] - netG_loss: [7.1736] - netD_loss: [1.5612] - train_acc: [1.0000] - test_accu: [0.7668]\n"
     ]
    },
    {
     "name": "stderr",
     "output_type": "stream",
     "text": [
      " 11%|█         | 22/200 [00:31<04:12,  1.42s/it]"
     ]
    },
    {
     "name": "stdout",
     "output_type": "stream",
     "text": [
      "Epochs - [22/200] - netG_loss: [7.2764] - netD_loss: [1.4159] - train_acc: [1.0000] - test_accu: [0.7825]\n"
     ]
    },
    {
     "name": "stderr",
     "output_type": "stream",
     "text": [
      " 12%|█▏        | 23/200 [00:32<04:09,  1.41s/it]"
     ]
    },
    {
     "name": "stdout",
     "output_type": "stream",
     "text": [
      "Epochs - [23/200] - netG_loss: [7.8257] - netD_loss: [1.4104] - train_acc: [1.0000] - test_accu: [0.7356]\n"
     ]
    },
    {
     "name": "stderr",
     "output_type": "stream",
     "text": [
      " 12%|█▏        | 24/200 [00:34<04:07,  1.40s/it]"
     ]
    },
    {
     "name": "stdout",
     "output_type": "stream",
     "text": [
      "Epochs - [24/200] - netG_loss: [7.7529] - netD_loss: [1.3756] - train_acc: [1.0000] - test_accu: [0.8137]\n"
     ]
    },
    {
     "name": "stderr",
     "output_type": "stream",
     "text": [
      " 12%|█▎        | 25/200 [00:35<04:05,  1.40s/it]"
     ]
    },
    {
     "name": "stdout",
     "output_type": "stream",
     "text": [
      "Epochs - [25/200] - netG_loss: [7.9060] - netD_loss: [1.3798] - train_acc: [1.0000] - test_accu: [0.8017]\n"
     ]
    },
    {
     "name": "stderr",
     "output_type": "stream",
     "text": [
      " 13%|█▎        | 26/200 [00:37<04:04,  1.40s/it]"
     ]
    },
    {
     "name": "stdout",
     "output_type": "stream",
     "text": [
      "Epochs - [26/200] - netG_loss: [8.1627] - netD_loss: [1.3345] - train_acc: [1.0000] - test_accu: [0.8053]\n"
     ]
    },
    {
     "name": "stderr",
     "output_type": "stream",
     "text": [
      " 14%|█▎        | 27/200 [00:38<04:05,  1.42s/it]"
     ]
    },
    {
     "name": "stdout",
     "output_type": "stream",
     "text": [
      "Epochs - [27/200] - netG_loss: [8.4999] - netD_loss: [1.2812] - train_acc: [1.0000] - test_accu: [0.7740]\n"
     ]
    },
    {
     "name": "stderr",
     "output_type": "stream",
     "text": [
      " 14%|█▍        | 28/200 [00:39<04:02,  1.41s/it]"
     ]
    },
    {
     "name": "stdout",
     "output_type": "stream",
     "text": [
      "Epochs - [28/200] - netG_loss: [8.5840] - netD_loss: [1.2442] - train_acc: [1.0000] - test_accu: [0.7933]\n"
     ]
    },
    {
     "name": "stderr",
     "output_type": "stream",
     "text": [
      " 14%|█▍        | 29/200 [00:41<04:00,  1.41s/it]"
     ]
    },
    {
     "name": "stdout",
     "output_type": "stream",
     "text": [
      "Epochs - [29/200] - netG_loss: [8.8738] - netD_loss: [1.2196] - train_acc: [1.0000] - test_accu: [0.8017]\n"
     ]
    },
    {
     "name": "stderr",
     "output_type": "stream",
     "text": [
      " 15%|█▌        | 30/200 [00:42<03:59,  1.41s/it]"
     ]
    },
    {
     "name": "stdout",
     "output_type": "stream",
     "text": [
      "Epochs - [30/200] - netG_loss: [9.1624] - netD_loss: [1.2408] - train_acc: [1.0000] - test_accu: [0.7825]\n"
     ]
    },
    {
     "name": "stderr",
     "output_type": "stream",
     "text": [
      " 16%|█▌        | 31/200 [00:44<04:03,  1.44s/it]"
     ]
    },
    {
     "name": "stdout",
     "output_type": "stream",
     "text": [
      "Epochs - [31/200] - netG_loss: [7.9151] - netD_loss: [1.2136] - train_acc: [1.0000] - test_accu: [0.7861]\n"
     ]
    },
    {
     "name": "stderr",
     "output_type": "stream",
     "text": [
      " 16%|█▌        | 32/200 [00:45<04:02,  1.45s/it]"
     ]
    },
    {
     "name": "stdout",
     "output_type": "stream",
     "text": [
      "Epochs - [32/200] - netG_loss: [7.5898] - netD_loss: [1.1743] - train_acc: [1.0000] - test_accu: [0.7861]\n"
     ]
    },
    {
     "name": "stderr",
     "output_type": "stream",
     "text": [
      " 16%|█▋        | 33/200 [00:47<04:06,  1.47s/it]"
     ]
    },
    {
     "name": "stdout",
     "output_type": "stream",
     "text": [
      "Epochs - [33/200] - netG_loss: [7.8734] - netD_loss: [1.1619] - train_acc: [1.0000] - test_accu: [0.7704]\n"
     ]
    },
    {
     "name": "stderr",
     "output_type": "stream",
     "text": [
      " 17%|█▋        | 34/200 [00:48<04:08,  1.50s/it]"
     ]
    },
    {
     "name": "stdout",
     "output_type": "stream",
     "text": [
      "Epochs - [34/200] - netG_loss: [7.6001] - netD_loss: [1.1352] - train_acc: [1.0000] - test_accu: [0.7897]\n"
     ]
    },
    {
     "name": "stderr",
     "output_type": "stream",
     "text": [
      " 18%|█▊        | 35/200 [00:50<04:08,  1.50s/it]"
     ]
    },
    {
     "name": "stdout",
     "output_type": "stream",
     "text": [
      "Epochs - [35/200] - netG_loss: [8.4159] - netD_loss: [1.1248] - train_acc: [1.0000] - test_accu: [0.7861]\n"
     ]
    },
    {
     "name": "stderr",
     "output_type": "stream",
     "text": [
      " 18%|█▊        | 35/200 [00:51<04:02,  1.47s/it]\n"
     ]
    },
    {
     "ename": "KeyboardInterrupt",
     "evalue": "",
     "output_type": "error",
     "traceback": [
      "\u001b[0;31m---------------------------------------------------------------------------\u001b[0m",
      "\u001b[0;31mKeyboardInterrupt\u001b[0m                         Traceback (most recent call last)",
      "Cell \u001b[0;32mIn[75], line 247\u001b[0m\n\u001b[1;32m    245\u001b[0m \u001b[38;5;28;01mif\u001b[39;00m \u001b[38;5;18m__name__\u001b[39m \u001b[38;5;241m==\u001b[39m \u001b[38;5;124m\"\u001b[39m\u001b[38;5;124m__main__\u001b[39m\u001b[38;5;124m\"\u001b[39m:\n\u001b[1;32m    246\u001b[0m     trainer \u001b[38;5;241m=\u001b[39m Trainer(epochs\u001b[38;5;241m=\u001b[39m\u001b[38;5;241m200\u001b[39m, lr \u001b[38;5;241m=\u001b[39m \u001b[38;5;241m0.001\u001b[39m, is_display\u001b[38;5;241m=\u001b[39m\u001b[38;5;28;01mTrue\u001b[39;00m, lr_scheduler\u001b[38;5;241m=\u001b[39m\u001b[38;5;28;01mTrue\u001b[39;00m)\n\u001b[0;32m--> 247\u001b[0m     \u001b[43mtrainer\u001b[49m\u001b[38;5;241;43m.\u001b[39;49m\u001b[43mtrain\u001b[49m\u001b[43m(\u001b[49m\u001b[43m)\u001b[49m\n",
      "Cell \u001b[0;32mIn[75], line 205\u001b[0m, in \u001b[0;36mTrainer.train\u001b[0;34m(self)\u001b[0m\n\u001b[1;32m    202\u001b[0m     \u001b[38;5;28mself\u001b[39m\u001b[38;5;241m.\u001b[39mnetD_loss\u001b[38;5;241m.\u001b[39mappend(netD[\u001b[38;5;124m\"\u001b[39m\u001b[38;5;124mloss\u001b[39m\u001b[38;5;124m\"\u001b[39m])\n\u001b[1;32m    203\u001b[0m     \u001b[38;5;28mself\u001b[39m\u001b[38;5;241m.\u001b[39mtrain_accuracy\u001b[38;5;241m.\u001b[39mappend(netD[\u001b[38;5;124m\"\u001b[39m\u001b[38;5;124maccuracy\u001b[39m\u001b[38;5;124m\"\u001b[39m])\n\u001b[0;32m--> 205\u001b[0m     netG \u001b[38;5;241m=\u001b[39m \u001b[38;5;28;43mself\u001b[39;49m\u001b[38;5;241;43m.\u001b[39;49m\u001b[43mupdate_generator_model\u001b[49m\u001b[43m(\u001b[49m\n\u001b[1;32m    206\u001b[0m \u001b[43m        \u001b[49m\u001b[43mimages\u001b[49m\u001b[38;5;241;43m=\u001b[39;49m\u001b[43mimages\u001b[49m\u001b[43m,\u001b[49m\n\u001b[1;32m    207\u001b[0m \u001b[43m        \u001b[49m\u001b[43mfake_samples\u001b[49m\u001b[38;5;241;43m=\u001b[39;49m\u001b[43mfake_samples\u001b[49m\u001b[43m,\u001b[49m\n\u001b[1;32m    208\u001b[0m \u001b[43m        \u001b[49m\u001b[43mreal_ones\u001b[49m\u001b[38;5;241;43m=\u001b[39;49m\u001b[43mreal_ones\u001b[49m\u001b[43m,\u001b[49m\n\u001b[1;32m    209\u001b[0m \u001b[43m    \u001b[49m\u001b[43m)\u001b[49m\n\u001b[1;32m    211\u001b[0m     \u001b[38;5;28mself\u001b[39m\u001b[38;5;241m.\u001b[39mnetG_loss\u001b[38;5;241m.\u001b[39mappend(netG[\u001b[38;5;124m\"\u001b[39m\u001b[38;5;124mloss\u001b[39m\u001b[38;5;124m\"\u001b[39m])\n\u001b[1;32m    213\u001b[0m \u001b[38;5;28;01mfor\u001b[39;00m _, (images, labels) \u001b[38;5;129;01min\u001b[39;00m \u001b[38;5;28menumerate\u001b[39m(\u001b[38;5;28mself\u001b[39m\u001b[38;5;241m.\u001b[39mtest_dataloader):\n",
      "Cell \u001b[0;32mIn[75], line 155\u001b[0m, in \u001b[0;36mTrainer.update_generator_model\u001b[0;34m(self, **kwargs)\u001b[0m\n\u001b[1;32m    152\u001b[0m loss\u001b[38;5;241m.\u001b[39mbackward()\n\u001b[1;32m    153\u001b[0m \u001b[38;5;28mself\u001b[39m\u001b[38;5;241m.\u001b[39moptimizerG\u001b[38;5;241m.\u001b[39mstep()\n\u001b[0;32m--> 155\u001b[0m \u001b[38;5;28;01mreturn\u001b[39;00m {\u001b[38;5;124m\"\u001b[39m\u001b[38;5;124mloss\u001b[39m\u001b[38;5;124m\"\u001b[39m: \u001b[43mloss\u001b[49m\u001b[38;5;241;43m.\u001b[39;49m\u001b[43mitem\u001b[49m\u001b[43m(\u001b[49m\u001b[43m)\u001b[49m}\n",
      "\u001b[0;31mKeyboardInterrupt\u001b[0m: "
     ]
    }
   ],
   "source": [
    "class Trainer:\n",
    "    def __init__(\n",
    "        self,\n",
    "        epochs=200,\n",
    "        lr=0.0002,\n",
    "        latent=100,\n",
    "        adam=True,\n",
    "        SGD=False,\n",
    "        device=\"mps\",\n",
    "        lr_scheduler=False,\n",
    "        l1_loss=False,\n",
    "        l2_loss=False,\n",
    "        elastic_net=False,\n",
    "        is_display=False,\n",
    "        is_weight_init=True,\n",
    "    ):\n",
    "\n",
    "        self.epochs = epochs\n",
    "        self.lr = lr\n",
    "        self.latent = latent\n",
    "        self.adam = adam\n",
    "        self.SGD = SGD\n",
    "        self.device = device\n",
    "        self.lr_scheduler = lr_scheduler\n",
    "        self.l1_loss = l1_loss\n",
    "        self.l2_loss = l2_loss\n",
    "        self.elastic = elastic_net\n",
    "        self.is_display = is_display\n",
    "        self.weight_init = is_weight_init\n",
    "\n",
    "        init = helper(\n",
    "            lr=self.lr,\n",
    "            adam=self.adam,\n",
    "            SGD=self.SGD,\n",
    "        )\n",
    "\n",
    "        self.train_dataloader = init[\"train_dataloader\"]\n",
    "        self.test_dataloader = init[\"test_dataloader\"]\n",
    "        self.val_dataloader = init[\"val_dataloader\"]\n",
    "\n",
    "        self.netG = init[\"netG\"]\n",
    "        self.netD = init[\"netD\"]\n",
    "\n",
    "        if self.weight_init:\n",
    "            self.netG.apply(weight_init)\n",
    "            self.netD.apply(weight_init)\n",
    "\n",
    "        self.netG.to(self.device)\n",
    "        self.netD.to(self.device)\n",
    "\n",
    "        self.optimizerG = init[\"optimizerG\"]\n",
    "        self.optimizerD = init[\"optimizerD\"]\n",
    "\n",
    "        self.adversarial_loss = init[\"adversarial_loss\"]\n",
    "        self.criterion_loss = init[\"criterion_loss\"]\n",
    "\n",
    "        if self.lr_scheduler:\n",
    "            self.schedulerG = StepLR(self.optimizerG, step_size=10, gamma=0.50)\n",
    "            self.schedulerD = StepLR(self.optimizerD, step_size=10, gamma=0.50)\n",
    "\n",
    "        self.config = config()\n",
    "\n",
    "    def l1(self, model):\n",
    "        if model is not None:\n",
    "            return sum(\n",
    "                torch.norm(params, 1) for params in model.parameters())\n",
    "\n",
    "        else:\n",
    "            raise ValueError(\"Model is not found\".capitalize())\n",
    "\n",
    "    def l2(self, model):\n",
    "        if model is not None:\n",
    "            return sum(\n",
    "                torch.norm(params, 2) for params in model.parameters())\n",
    "        else:\n",
    "            raise ValueError(\"Model is not found\".capitalize())\n",
    "\n",
    "    def elastic_net(self, model):\n",
    "        l1 = self.l1(model=model)\n",
    "        l2 = self.l2(model=model)\n",
    "\n",
    "        return 0.01 * (l1 + l2)\n",
    "\n",
    "    def saved_checkpoints(self, **kwargs):\n",
    "        if os.path.exists(self.config[\"path\"][\"train_models\"]):\n",
    "            torch.save(\n",
    "                self.netD.state_dict(), os.path.join(self.config[\"path\"][\"train_models\"], \"model{}.pth\".format(kwargs[\"epoch\"]))\n",
    "            )\n",
    "\n",
    "        else:\n",
    "            raise Exception(\"Cannot be saved the model\".capitalize())\n",
    "\n",
    "    def saved_metrics(self, **kwargs):\n",
    "        pass\n",
    "\n",
    "    def saved_train_images(self, **kwargs):\n",
    "        pass\n",
    "\n",
    "    def update_discriminator_model(self, **kwargs):\n",
    "        self.optimizerD.zero_grad()\n",
    "\n",
    "        fake_clf_pred, fake_validity_pred = self.netD(\n",
    "            self.netG(kwargs[\"fake_samples\"])\n",
    "        )\n",
    "        fake_validity_loss = self.criterion_loss(fake_validity_pred, kwargs[\"fake_zeros\"])\n",
    "        fake_clf_loss = self.adversarial_loss(fake_clf_pred, kwargs[\"fake_labels\"])\n",
    "\n",
    "        real_clf_pred, real_validity_pred = self.netD(kwargs[\"images\"])\n",
    "        real_validity_loss = self.criterion_loss(real_validity_pred, kwargs[\"real_ones\"])\n",
    "        real_clf_loss = self.adversarial_loss(real_clf_pred, kwargs[\"labels\"])\n",
    "\n",
    "        total_loss = 0.5 * (\n",
    "            fake_validity_loss + fake_clf_loss + real_validity_loss + real_clf_loss\n",
    "        )\n",
    "\n",
    "        if self.l1_loss:\n",
    "            total_loss += 0.01 * self.l1(model = self.netD)\n",
    "\n",
    "        if self.l2_loss:\n",
    "\n",
    "            total_loss += 0.01 * self.l2(model = self.netD)\n",
    "\n",
    "        if self.elastic_net:\n",
    "            total_loss += 0.01 * self.elastic_net(model = self.netD)\n",
    "\n",
    "        total_loss.backward()\n",
    "        self.optimizerD.step()\n",
    "\n",
    "        train_accuracy = accuracy_score(\n",
    "            torch.argmax(real_clf_pred, dim=1).cpu().detach().numpy(),\n",
    "            kwargs[\"labels\"].cpu().detach().numpy(),\n",
    "        )\n",
    "\n",
    "        return {\"loss\": total_loss.item(), \"accuracy\": train_accuracy}\n",
    "\n",
    "    def update_generator_model(self, **kwargs):\n",
    "        self.netG.zero_grad()\n",
    "\n",
    "        _, generated_predict = self.netD(\n",
    "            self.netG(kwargs[\"fake_samples\"])\n",
    "        )\n",
    "\n",
    "        loss = self.criterion_loss(generated_predict, kwargs[\"real_ones\"])\n",
    "\n",
    "        if self.l1_loss:\n",
    "            loss += 0.01 * self.l1(model = self.netG)\n",
    "\n",
    "        if self.l2_loss:\n",
    "            loss += 0.01 * self.l2(model = self.netG)\n",
    "\n",
    "        if self.elastic_net:\n",
    "            loss += 0.01 * self.elastic_net(model = self.netG)\n",
    "\n",
    "        loss.backward()\n",
    "        self.optimizerG.step()\n",
    "\n",
    "        return {\"loss\": loss.item()}\n",
    "\n",
    "    def show_progress(self, **kwargs):\n",
    "        if self.is_display:\n",
    "            print(\"Epochs - [{}/{}] - netG_loss: [{:.4f}] - netD_loss: [{:.4f}] - train_acc: [{:.4f}] - test_accu: [{:.4f}]\".format(\n",
    "                kwargs[\"epoch\"],\n",
    "                self.epochs,\n",
    "                kwargs[\"netG_loss\"],\n",
    "                kwargs[\"netD_loss\"],\n",
    "                kwargs[\"train_accuracy\"],\n",
    "                kwargs[\"test_accuracy\"],\n",
    "            ))\n",
    "\n",
    "        else:\n",
    "            print(\n",
    "                \"Epoch -[{}/{}] is completed.\".format(\n",
    "                    kwargs[\"epoch\"],\n",
    "                    self.epochs\n",
    "                )\n",
    "            )\n",
    "\n",
    "    def train(self):\n",
    "        for epoch in tqdm(range(self.epochs)):\n",
    "            self.netG_loss = []\n",
    "            self.netD_loss = []\n",
    "            self.train_accuracy = []\n",
    "            self.test_accuracy = []\n",
    "\n",
    "            for _, (images, labels) in enumerate(self.train_dataloader):\n",
    "                images = images.to(self.device)\n",
    "                labels = labels.to(self.device)\n",
    "\n",
    "                batch = images.size(0)\n",
    "                fake_samples = torch.randn((batch, self.latent, 1, 1)).to(\n",
    "                    self.device\n",
    "                )\n",
    "                fake_labels = torch.randint(0, 2, (batch, 2)).to(self.device) \n",
    "                real_ones = torch.ones((batch, 1)).to(self.device)  \n",
    "                fake_zeros = torch.zeros((batch, 1)).to(self.device)  \n",
    "\n",
    "                netD = self.update_discriminator_model(\n",
    "                    images=images,\n",
    "                    labels=labels,\n",
    "                    fake_samples=fake_samples,\n",
    "                    fake_labels = fake_labels,\n",
    "                    real_ones=real_ones,\n",
    "                    fake_zeros=fake_zeros,\n",
    "                )\n",
    "\n",
    "                self.netD_loss.append(netD[\"loss\"])\n",
    "                self.train_accuracy.append(netD[\"accuracy\"])\n",
    "\n",
    "                netG = self.update_generator_model(\n",
    "                    images=images,\n",
    "                    fake_samples=fake_samples,\n",
    "                    real_ones=real_ones,\n",
    "                )\n",
    "\n",
    "                self.netG_loss.append(netG[\"loss\"])\n",
    "\n",
    "            for _, (images, labels) in enumerate(self.test_dataloader):\n",
    "                images = images.to(self.device)\n",
    "                labels = labels.to(self.device)\n",
    "\n",
    "                clf_pred, _ = self.netD(images)\n",
    "                clf_labels = torch.argmax(clf_pred, dim=1)\n",
    "                clf_labels = clf_labels.cpu().detach().numpy()\n",
    "\n",
    "                self.test_accuracy.append(\n",
    "                    accuracy_score(clf_labels, labels.cpu().detach().numpy())\n",
    "                )\n",
    "\n",
    "            if self.lr_scheduler:\n",
    "                self.schedulerG.step()\n",
    "                self.schedulerD.step()\n",
    "\n",
    "            if self.is_display:  \n",
    "                self.show_progress(\n",
    "                    epoch=epoch+1,\n",
    "                    netG_loss=np.mean(self.netG_loss),\n",
    "                    netD_loss=np.mean(self.netD_loss),\n",
    "                    train_accuracy=np.mean(self.train_accuracy),\n",
    "                    test_accuracy=np.mean(self.test_accuracy)\n",
    "                )\n",
    "\n",
    "            self.saved_checkpoints(epoch=epoch+1)\n",
    "\n",
    "    @staticmethod\n",
    "    def plot_history():\n",
    "        pass\n",
    "\n",
    "\n",
    "if __name__ == \"__main__\":\n",
    "    trainer = Trainer(epochs=200, lr = 0.001, is_display=True, lr_scheduler=True)\n",
    "    trainer.train()"
   ]
  },
  {
   "cell_type": "code",
   "execution_count": 73,
   "metadata": {},
   "outputs": [
    {
     "name": "stderr",
     "output_type": "stream",
     "text": [
      "100%|██████████| 4/4 [00:00<00:00, 605.06it/s]\n"
     ]
    }
   ],
   "source": [
    "dataloader = load(\n",
    "    filename=\"/Users/shahmuhammadraditrahman/Desktop/SGAN/data/processed/val_dataloader.pkl\"\n",
    ")\n",
    "\n",
    "device = device_init(device=\"mps\")\n",
    "netD = Discriminator().to(device)\n",
    "\n",
    "state_dict = torch.load(\n",
    "    \"/Users/shahmuhammadraditrahman/Desktop/SGAN/checkpoints/train_models/model200.pth\"\n",
    ")\n",
    "\n",
    "netD.load_state_dict(state_dict)\n",
    "\n",
    "real_labels = []\n",
    "pred_labels = []\n",
    "\n",
    "for (images, labels) in dataloader:\n",
    "    images = images.to(device)\n",
    "    labels = labels.to(device)\n",
    "\n",
    "    clf_pred, _ = trainer.netD(images)\n",
    "    clf_labels = torch.argmax(clf_pred, dim=1)\n",
    "    clf_labels = clf_labels.cpu().detach().flatten().numpy()\n",
    "\n",
    "    real_labels.extend(labels.cpu().detach().flatten().numpy())\n",
    "    pred_labels.extend(clf_labels)"
   ]
  },
  {
   "cell_type": "code",
   "execution_count": 74,
   "metadata": {},
   "outputs": [
    {
     "data": {
      "text/plain": [
       "0.7642276422764228"
      ]
     },
     "execution_count": 74,
     "metadata": {},
     "output_type": "execute_result"
    }
   ],
   "source": [
    "accuracy_score(real_labels, pred_labels)"
   ]
  },
  {
   "cell_type": "code",
   "execution_count": null,
   "metadata": {},
   "outputs": [],
   "source": []
  }
 ],
 "metadata": {
  "kernelspec": {
   "display_name": "GPSG",
   "language": "python",
   "name": "python3"
  },
  "language_info": {
   "codemirror_mode": {
    "name": "ipython",
    "version": 3
   },
   "file_extension": ".py",
   "mimetype": "text/x-python",
   "name": "python",
   "nbconvert_exporter": "python",
   "pygments_lexer": "ipython3",
   "version": "3.9.18"
  }
 },
 "nbformat": 4,
 "nbformat_minor": 2
}
